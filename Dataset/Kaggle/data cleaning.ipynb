{
 "cells": [
  {
   "cell_type": "code",
   "execution_count": 1,
   "id": "1cce15f9",
   "metadata": {},
   "outputs": [],
   "source": [
    "import pandas as pd\n",
    "import numpy as np\n",
    "import matplotlib.pyplot as plt\n",
    "import seaborn as sns"
   ]
  },
  {
   "cell_type": "markdown",
   "id": "d19cf2bf",
   "metadata": {},
   "source": [
    "## Load dataset"
   ]
  },
  {
   "cell_type": "code",
   "execution_count": 18,
   "id": "7740fb33",
   "metadata": {},
   "outputs": [
    {
     "data": {
      "text/html": [
       "<div>\n",
       "<style scoped>\n",
       "    .dataframe tbody tr th:only-of-type {\n",
       "        vertical-align: middle;\n",
       "    }\n",
       "\n",
       "    .dataframe tbody tr th {\n",
       "        vertical-align: top;\n",
       "    }\n",
       "\n",
       "    .dataframe thead th {\n",
       "        text-align: right;\n",
       "    }\n",
       "</style>\n",
       "<table border=\"1\" class=\"dataframe\">\n",
       "  <thead>\n",
       "    <tr style=\"text-align: right;\">\n",
       "      <th></th>\n",
       "      <th>Id</th>\n",
       "      <th>ProductId</th>\n",
       "      <th>UserId</th>\n",
       "      <th>ProfileName</th>\n",
       "      <th>HelpfulnessNumerator</th>\n",
       "      <th>HelpfulnessDenominator</th>\n",
       "      <th>Rating</th>\n",
       "      <th>Time</th>\n",
       "      <th>Summary</th>\n",
       "      <th>Review</th>\n",
       "    </tr>\n",
       "  </thead>\n",
       "  <tbody>\n",
       "    <tr>\n",
       "      <th>0</th>\n",
       "      <td>1</td>\n",
       "      <td>B001E4KFG0</td>\n",
       "      <td>A3SGXH7AUHU8GW</td>\n",
       "      <td>delmartian</td>\n",
       "      <td>1</td>\n",
       "      <td>1</td>\n",
       "      <td>5</td>\n",
       "      <td>1303862400</td>\n",
       "      <td>Good Quality Dog Food</td>\n",
       "      <td>I have bought several of the Vitality canned d...</td>\n",
       "    </tr>\n",
       "    <tr>\n",
       "      <th>1</th>\n",
       "      <td>2</td>\n",
       "      <td>B00813GRG4</td>\n",
       "      <td>A1D87F6ZCVE5NK</td>\n",
       "      <td>dll pa</td>\n",
       "      <td>0</td>\n",
       "      <td>0</td>\n",
       "      <td>1</td>\n",
       "      <td>1346976000</td>\n",
       "      <td>Not as Advertised</td>\n",
       "      <td>Product arrived labeled as Jumbo Salted Peanut...</td>\n",
       "    </tr>\n",
       "    <tr>\n",
       "      <th>2</th>\n",
       "      <td>3</td>\n",
       "      <td>B000LQOCH0</td>\n",
       "      <td>ABXLMWJIXXAIN</td>\n",
       "      <td>Natalia Corres \"Natalia Corres\"</td>\n",
       "      <td>1</td>\n",
       "      <td>1</td>\n",
       "      <td>4</td>\n",
       "      <td>1219017600</td>\n",
       "      <td>\"Delight\" says it all</td>\n",
       "      <td>This is a confection that has been around a fe...</td>\n",
       "    </tr>\n",
       "    <tr>\n",
       "      <th>3</th>\n",
       "      <td>4</td>\n",
       "      <td>B000UA0QIQ</td>\n",
       "      <td>A395BORC6FGVXV</td>\n",
       "      <td>Karl</td>\n",
       "      <td>3</td>\n",
       "      <td>3</td>\n",
       "      <td>2</td>\n",
       "      <td>1307923200</td>\n",
       "      <td>Cough Medicine</td>\n",
       "      <td>If you are looking for the secret ingredient i...</td>\n",
       "    </tr>\n",
       "    <tr>\n",
       "      <th>4</th>\n",
       "      <td>5</td>\n",
       "      <td>B006K2ZZ7K</td>\n",
       "      <td>A1UQRSCLF8GW1T</td>\n",
       "      <td>Michael D. Bigham \"M. Wassir\"</td>\n",
       "      <td>0</td>\n",
       "      <td>0</td>\n",
       "      <td>5</td>\n",
       "      <td>1350777600</td>\n",
       "      <td>Great taffy</td>\n",
       "      <td>Great taffy at a great price.  There was a wid...</td>\n",
       "    </tr>\n",
       "    <tr>\n",
       "      <th>...</th>\n",
       "      <td>...</td>\n",
       "      <td>...</td>\n",
       "      <td>...</td>\n",
       "      <td>...</td>\n",
       "      <td>...</td>\n",
       "      <td>...</td>\n",
       "      <td>...</td>\n",
       "      <td>...</td>\n",
       "      <td>...</td>\n",
       "      <td>...</td>\n",
       "    </tr>\n",
       "    <tr>\n",
       "      <th>568449</th>\n",
       "      <td>568450</td>\n",
       "      <td>B001EO7N10</td>\n",
       "      <td>A28KG5XORO54AY</td>\n",
       "      <td>Lettie D. Carter</td>\n",
       "      <td>0</td>\n",
       "      <td>0</td>\n",
       "      <td>5</td>\n",
       "      <td>1299628800</td>\n",
       "      <td>Will not do without</td>\n",
       "      <td>Great for sesame chicken..this is a good if no...</td>\n",
       "    </tr>\n",
       "    <tr>\n",
       "      <th>568450</th>\n",
       "      <td>568451</td>\n",
       "      <td>B003S1WTCU</td>\n",
       "      <td>A3I8AFVPEE8KI5</td>\n",
       "      <td>R. Sawyer</td>\n",
       "      <td>0</td>\n",
       "      <td>0</td>\n",
       "      <td>2</td>\n",
       "      <td>1331251200</td>\n",
       "      <td>disappointed</td>\n",
       "      <td>I'm disappointed with the flavor. The chocolat...</td>\n",
       "    </tr>\n",
       "    <tr>\n",
       "      <th>568451</th>\n",
       "      <td>568452</td>\n",
       "      <td>B004I613EE</td>\n",
       "      <td>A121AA1GQV751Z</td>\n",
       "      <td>pksd \"pk_007\"</td>\n",
       "      <td>2</td>\n",
       "      <td>2</td>\n",
       "      <td>5</td>\n",
       "      <td>1329782400</td>\n",
       "      <td>Perfect for our maltipoo</td>\n",
       "      <td>These stars are small, so you can give 10-15 o...</td>\n",
       "    </tr>\n",
       "    <tr>\n",
       "      <th>568452</th>\n",
       "      <td>568453</td>\n",
       "      <td>B004I613EE</td>\n",
       "      <td>A3IBEVCTXKNOH</td>\n",
       "      <td>Kathy A. Welch \"katwel\"</td>\n",
       "      <td>1</td>\n",
       "      <td>1</td>\n",
       "      <td>5</td>\n",
       "      <td>1331596800</td>\n",
       "      <td>Favorite Training and reward treat</td>\n",
       "      <td>These are the BEST treats for training and rew...</td>\n",
       "    </tr>\n",
       "    <tr>\n",
       "      <th>568453</th>\n",
       "      <td>568454</td>\n",
       "      <td>B001LR2CU2</td>\n",
       "      <td>A3LGQPJCZVL9UC</td>\n",
       "      <td>srfell17</td>\n",
       "      <td>0</td>\n",
       "      <td>0</td>\n",
       "      <td>5</td>\n",
       "      <td>1338422400</td>\n",
       "      <td>Great Honey</td>\n",
       "      <td>I am very satisfied ,product is as advertised,...</td>\n",
       "    </tr>\n",
       "  </tbody>\n",
       "</table>\n",
       "<p>568454 rows × 10 columns</p>\n",
       "</div>"
      ],
      "text/plain": [
       "            Id   ProductId          UserId                      ProfileName  \\\n",
       "0            1  B001E4KFG0  A3SGXH7AUHU8GW                       delmartian   \n",
       "1            2  B00813GRG4  A1D87F6ZCVE5NK                           dll pa   \n",
       "2            3  B000LQOCH0   ABXLMWJIXXAIN  Natalia Corres \"Natalia Corres\"   \n",
       "3            4  B000UA0QIQ  A395BORC6FGVXV                             Karl   \n",
       "4            5  B006K2ZZ7K  A1UQRSCLF8GW1T    Michael D. Bigham \"M. Wassir\"   \n",
       "...        ...         ...             ...                              ...   \n",
       "568449  568450  B001EO7N10  A28KG5XORO54AY                 Lettie D. Carter   \n",
       "568450  568451  B003S1WTCU  A3I8AFVPEE8KI5                        R. Sawyer   \n",
       "568451  568452  B004I613EE  A121AA1GQV751Z                    pksd \"pk_007\"   \n",
       "568452  568453  B004I613EE   A3IBEVCTXKNOH          Kathy A. Welch \"katwel\"   \n",
       "568453  568454  B001LR2CU2  A3LGQPJCZVL9UC                         srfell17   \n",
       "\n",
       "        HelpfulnessNumerator  HelpfulnessDenominator  Rating        Time  \\\n",
       "0                          1                       1       5  1303862400   \n",
       "1                          0                       0       1  1346976000   \n",
       "2                          1                       1       4  1219017600   \n",
       "3                          3                       3       2  1307923200   \n",
       "4                          0                       0       5  1350777600   \n",
       "...                      ...                     ...     ...         ...   \n",
       "568449                     0                       0       5  1299628800   \n",
       "568450                     0                       0       2  1331251200   \n",
       "568451                     2                       2       5  1329782400   \n",
       "568452                     1                       1       5  1331596800   \n",
       "568453                     0                       0       5  1338422400   \n",
       "\n",
       "                                   Summary  \\\n",
       "0                    Good Quality Dog Food   \n",
       "1                        Not as Advertised   \n",
       "2                    \"Delight\" says it all   \n",
       "3                           Cough Medicine   \n",
       "4                              Great taffy   \n",
       "...                                    ...   \n",
       "568449                 Will not do without   \n",
       "568450                        disappointed   \n",
       "568451            Perfect for our maltipoo   \n",
       "568452  Favorite Training and reward treat   \n",
       "568453                         Great Honey   \n",
       "\n",
       "                                                   Review  \n",
       "0       I have bought several of the Vitality canned d...  \n",
       "1       Product arrived labeled as Jumbo Salted Peanut...  \n",
       "2       This is a confection that has been around a fe...  \n",
       "3       If you are looking for the secret ingredient i...  \n",
       "4       Great taffy at a great price.  There was a wid...  \n",
       "...                                                   ...  \n",
       "568449  Great for sesame chicken..this is a good if no...  \n",
       "568450  I'm disappointed with the flavor. The chocolat...  \n",
       "568451  These stars are small, so you can give 10-15 o...  \n",
       "568452  These are the BEST treats for training and rew...  \n",
       "568453  I am very satisfied ,product is as advertised,...  \n",
       "\n",
       "[568454 rows x 10 columns]"
      ]
     },
     "execution_count": 18,
     "metadata": {},
     "output_type": "execute_result"
    }
   ],
   "source": [
    "df=pd.read_csv('Reviews.csv')\n",
    "df"
   ]
  },
  {
   "cell_type": "code",
   "execution_count": 19,
   "id": "5b72bcea",
   "metadata": {},
   "outputs": [
    {
     "name": "stdout",
     "output_type": "stream",
     "text": [
      "<class 'pandas.core.frame.DataFrame'>\n",
      "RangeIndex: 568454 entries, 0 to 568453\n",
      "Data columns (total 10 columns):\n",
      " #   Column                  Non-Null Count   Dtype \n",
      "---  ------                  --------------   ----- \n",
      " 0   Id                      568454 non-null  int64 \n",
      " 1   ProductId               568454 non-null  object\n",
      " 2   UserId                  568454 non-null  object\n",
      " 3   ProfileName             568428 non-null  object\n",
      " 4   HelpfulnessNumerator    568454 non-null  int64 \n",
      " 5   HelpfulnessDenominator  568454 non-null  int64 \n",
      " 6   Rating                  568454 non-null  int64 \n",
      " 7   Time                    568454 non-null  int64 \n",
      " 8   Summary                 568427 non-null  object\n",
      " 9   Review                  568454 non-null  object\n",
      "dtypes: int64(5), object(5)\n",
      "memory usage: 43.4+ MB\n"
     ]
    }
   ],
   "source": [
    "df.info()"
   ]
  },
  {
   "cell_type": "code",
   "execution_count": 20,
   "id": "f3bccb66",
   "metadata": {},
   "outputs": [],
   "source": [
    "df=df.drop(columns=['Id','ProductId','UserId','ProfileName','HelpfulnessNumerator','HelpfulnessDenominator','Time'])"
   ]
  },
  {
   "cell_type": "code",
   "execution_count": 21,
   "id": "8857a56d",
   "metadata": {},
   "outputs": [
    {
     "data": {
      "text/html": [
       "<div>\n",
       "<style scoped>\n",
       "    .dataframe tbody tr th:only-of-type {\n",
       "        vertical-align: middle;\n",
       "    }\n",
       "\n",
       "    .dataframe tbody tr th {\n",
       "        vertical-align: top;\n",
       "    }\n",
       "\n",
       "    .dataframe thead th {\n",
       "        text-align: right;\n",
       "    }\n",
       "</style>\n",
       "<table border=\"1\" class=\"dataframe\">\n",
       "  <thead>\n",
       "    <tr style=\"text-align: right;\">\n",
       "      <th></th>\n",
       "      <th>Rating</th>\n",
       "      <th>Summary</th>\n",
       "      <th>Review</th>\n",
       "    </tr>\n",
       "  </thead>\n",
       "  <tbody>\n",
       "    <tr>\n",
       "      <th>0</th>\n",
       "      <td>5</td>\n",
       "      <td>Good Quality Dog Food</td>\n",
       "      <td>I have bought several of the Vitality canned d...</td>\n",
       "    </tr>\n",
       "    <tr>\n",
       "      <th>1</th>\n",
       "      <td>1</td>\n",
       "      <td>Not as Advertised</td>\n",
       "      <td>Product arrived labeled as Jumbo Salted Peanut...</td>\n",
       "    </tr>\n",
       "    <tr>\n",
       "      <th>2</th>\n",
       "      <td>4</td>\n",
       "      <td>\"Delight\" says it all</td>\n",
       "      <td>This is a confection that has been around a fe...</td>\n",
       "    </tr>\n",
       "    <tr>\n",
       "      <th>3</th>\n",
       "      <td>2</td>\n",
       "      <td>Cough Medicine</td>\n",
       "      <td>If you are looking for the secret ingredient i...</td>\n",
       "    </tr>\n",
       "    <tr>\n",
       "      <th>4</th>\n",
       "      <td>5</td>\n",
       "      <td>Great taffy</td>\n",
       "      <td>Great taffy at a great price.  There was a wid...</td>\n",
       "    </tr>\n",
       "    <tr>\n",
       "      <th>...</th>\n",
       "      <td>...</td>\n",
       "      <td>...</td>\n",
       "      <td>...</td>\n",
       "    </tr>\n",
       "    <tr>\n",
       "      <th>568449</th>\n",
       "      <td>5</td>\n",
       "      <td>Will not do without</td>\n",
       "      <td>Great for sesame chicken..this is a good if no...</td>\n",
       "    </tr>\n",
       "    <tr>\n",
       "      <th>568450</th>\n",
       "      <td>2</td>\n",
       "      <td>disappointed</td>\n",
       "      <td>I'm disappointed with the flavor. The chocolat...</td>\n",
       "    </tr>\n",
       "    <tr>\n",
       "      <th>568451</th>\n",
       "      <td>5</td>\n",
       "      <td>Perfect for our maltipoo</td>\n",
       "      <td>These stars are small, so you can give 10-15 o...</td>\n",
       "    </tr>\n",
       "    <tr>\n",
       "      <th>568452</th>\n",
       "      <td>5</td>\n",
       "      <td>Favorite Training and reward treat</td>\n",
       "      <td>These are the BEST treats for training and rew...</td>\n",
       "    </tr>\n",
       "    <tr>\n",
       "      <th>568453</th>\n",
       "      <td>5</td>\n",
       "      <td>Great Honey</td>\n",
       "      <td>I am very satisfied ,product is as advertised,...</td>\n",
       "    </tr>\n",
       "  </tbody>\n",
       "</table>\n",
       "<p>568454 rows × 3 columns</p>\n",
       "</div>"
      ],
      "text/plain": [
       "        Rating                             Summary  \\\n",
       "0            5               Good Quality Dog Food   \n",
       "1            1                   Not as Advertised   \n",
       "2            4               \"Delight\" says it all   \n",
       "3            2                      Cough Medicine   \n",
       "4            5                         Great taffy   \n",
       "...        ...                                 ...   \n",
       "568449       5                 Will not do without   \n",
       "568450       2                        disappointed   \n",
       "568451       5            Perfect for our maltipoo   \n",
       "568452       5  Favorite Training and reward treat   \n",
       "568453       5                         Great Honey   \n",
       "\n",
       "                                                   Review  \n",
       "0       I have bought several of the Vitality canned d...  \n",
       "1       Product arrived labeled as Jumbo Salted Peanut...  \n",
       "2       This is a confection that has been around a fe...  \n",
       "3       If you are looking for the secret ingredient i...  \n",
       "4       Great taffy at a great price.  There was a wid...  \n",
       "...                                                   ...  \n",
       "568449  Great for sesame chicken..this is a good if no...  \n",
       "568450  I'm disappointed with the flavor. The chocolat...  \n",
       "568451  These stars are small, so you can give 10-15 o...  \n",
       "568452  These are the BEST treats for training and rew...  \n",
       "568453  I am very satisfied ,product is as advertised,...  \n",
       "\n",
       "[568454 rows x 3 columns]"
      ]
     },
     "execution_count": 21,
     "metadata": {},
     "output_type": "execute_result"
    }
   ],
   "source": [
    "df"
   ]
  },
  {
   "cell_type": "markdown",
   "id": "e306304c",
   "metadata": {},
   "source": [
    "## Remove null and duplicate rows"
   ]
  },
  {
   "cell_type": "code",
   "execution_count": 22,
   "id": "98b79958",
   "metadata": {},
   "outputs": [],
   "source": [
    "df = df.dropna(subset=['Review'])\n",
    "df = df.dropna(subset=['Rating'])\n",
    "df = df.dropna(subset=['Summary'])"
   ]
  },
  {
   "cell_type": "code",
   "execution_count": 23,
   "id": "b255900c",
   "metadata": {},
   "outputs": [],
   "source": [
    "df.drop_duplicates(inplace=True)"
   ]
  },
  {
   "cell_type": "code",
   "execution_count": 24,
   "id": "b7efaeb0",
   "metadata": {},
   "outputs": [],
   "source": [
    "conflicting_reviews = df.groupby('Review')['Rating'].nunique()\n",
    "conflicting_reviews = conflicting_reviews[conflicting_reviews > 1].index\n",
    "df = df[df['Review'].isin(conflicting_reviews) == False]"
   ]
  },
  {
   "cell_type": "code",
   "execution_count": 25,
   "id": "4eff52de",
   "metadata": {},
   "outputs": [],
   "source": [
    "conflicting_reviews = df.groupby('Summary')['Rating'].nunique()\n",
    "conflicting_reviews = conflicting_reviews[conflicting_reviews > 1].index\n",
    "df = df[df['Summary'].isin(conflicting_reviews) == False]"
   ]
  },
  {
   "cell_type": "code",
   "execution_count": 26,
   "id": "1bf23868",
   "metadata": {},
   "outputs": [
    {
     "data": {
      "text/plain": [
       "np.False_"
      ]
     },
     "execution_count": 26,
     "metadata": {},
     "output_type": "execute_result"
    }
   ],
   "source": [
    "df.duplicated().any()"
   ]
  },
  {
   "cell_type": "code",
   "execution_count": 27,
   "id": "0a6a1919",
   "metadata": {},
   "outputs": [],
   "source": [
    "df[\"Review\"] = df[\"Summary\"] + \" \" + df[\"Review\"]"
   ]
  },
  {
   "cell_type": "code",
   "execution_count": 28,
   "id": "e64b790f",
   "metadata": {},
   "outputs": [
    {
     "data": {
      "text/html": [
       "<div>\n",
       "<style scoped>\n",
       "    .dataframe tbody tr th:only-of-type {\n",
       "        vertical-align: middle;\n",
       "    }\n",
       "\n",
       "    .dataframe tbody tr th {\n",
       "        vertical-align: top;\n",
       "    }\n",
       "\n",
       "    .dataframe thead th {\n",
       "        text-align: right;\n",
       "    }\n",
       "</style>\n",
       "<table border=\"1\" class=\"dataframe\">\n",
       "  <thead>\n",
       "    <tr style=\"text-align: right;\">\n",
       "      <th></th>\n",
       "      <th>Rating</th>\n",
       "      <th>Summary</th>\n",
       "      <th>Review</th>\n",
       "    </tr>\n",
       "  </thead>\n",
       "  <tbody>\n",
       "    <tr>\n",
       "      <th>0</th>\n",
       "      <td>5</td>\n",
       "      <td>Good Quality Dog Food</td>\n",
       "      <td>Good Quality Dog Food I have bought several of...</td>\n",
       "    </tr>\n",
       "    <tr>\n",
       "      <th>1</th>\n",
       "      <td>4</td>\n",
       "      <td>\"Delight\" says it all</td>\n",
       "      <td>\"Delight\" says it all This is a confection tha...</td>\n",
       "    </tr>\n",
       "    <tr>\n",
       "      <th>2</th>\n",
       "      <td>2</td>\n",
       "      <td>Cough Medicine</td>\n",
       "      <td>Cough Medicine If you are looking for the secr...</td>\n",
       "    </tr>\n",
       "    <tr>\n",
       "      <th>3</th>\n",
       "      <td>4</td>\n",
       "      <td>Nice Taffy</td>\n",
       "      <td>Nice Taffy I got a wild hair for taffy and ord...</td>\n",
       "    </tr>\n",
       "    <tr>\n",
       "      <th>4</th>\n",
       "      <td>5</td>\n",
       "      <td>Great!  Just as good as the expensive brands!</td>\n",
       "      <td>Great!  Just as good as the expensive brands! ...</td>\n",
       "    </tr>\n",
       "    <tr>\n",
       "      <th>...</th>\n",
       "      <td>...</td>\n",
       "      <td>...</td>\n",
       "      <td>...</td>\n",
       "    </tr>\n",
       "    <tr>\n",
       "      <th>311488</th>\n",
       "      <td>5</td>\n",
       "      <td>If its all natural, this is like panacea of Sp...</td>\n",
       "      <td>If its all natural, this is like panacea of Sp...</td>\n",
       "    </tr>\n",
       "    <tr>\n",
       "      <th>311489</th>\n",
       "      <td>5</td>\n",
       "      <td>Very large ground spice jars.</td>\n",
       "      <td>Very large ground spice jars. My only complain...</td>\n",
       "    </tr>\n",
       "    <tr>\n",
       "      <th>311490</th>\n",
       "      <td>5</td>\n",
       "      <td>Will not do without</td>\n",
       "      <td>Will not do without Great for sesame chicken.....</td>\n",
       "    </tr>\n",
       "    <tr>\n",
       "      <th>311491</th>\n",
       "      <td>5</td>\n",
       "      <td>Perfect for our maltipoo</td>\n",
       "      <td>Perfect for our maltipoo These stars are small...</td>\n",
       "    </tr>\n",
       "    <tr>\n",
       "      <th>311492</th>\n",
       "      <td>5</td>\n",
       "      <td>Favorite Training and reward treat</td>\n",
       "      <td>Favorite Training and reward treat These are t...</td>\n",
       "    </tr>\n",
       "  </tbody>\n",
       "</table>\n",
       "<p>311493 rows × 3 columns</p>\n",
       "</div>"
      ],
      "text/plain": [
       "        Rating                                            Summary  \\\n",
       "0            5                              Good Quality Dog Food   \n",
       "1            4                              \"Delight\" says it all   \n",
       "2            2                                     Cough Medicine   \n",
       "3            4                                         Nice Taffy   \n",
       "4            5      Great!  Just as good as the expensive brands!   \n",
       "...        ...                                                ...   \n",
       "311488       5  If its all natural, this is like panacea of Sp...   \n",
       "311489       5                      Very large ground spice jars.   \n",
       "311490       5                                Will not do without   \n",
       "311491       5                           Perfect for our maltipoo   \n",
       "311492       5                 Favorite Training and reward treat   \n",
       "\n",
       "                                                   Review  \n",
       "0       Good Quality Dog Food I have bought several of...  \n",
       "1       \"Delight\" says it all This is a confection tha...  \n",
       "2       Cough Medicine If you are looking for the secr...  \n",
       "3       Nice Taffy I got a wild hair for taffy and ord...  \n",
       "4       Great!  Just as good as the expensive brands! ...  \n",
       "...                                                   ...  \n",
       "311488  If its all natural, this is like panacea of Sp...  \n",
       "311489  Very large ground spice jars. My only complain...  \n",
       "311490  Will not do without Great for sesame chicken.....  \n",
       "311491  Perfect for our maltipoo These stars are small...  \n",
       "311492  Favorite Training and reward treat These are t...  \n",
       "\n",
       "[311493 rows x 3 columns]"
      ]
     },
     "execution_count": 28,
     "metadata": {},
     "output_type": "execute_result"
    }
   ],
   "source": [
    "df.reset_index(drop=True, inplace=True)\n",
    "df"
   ]
  },
  {
   "cell_type": "code",
   "execution_count": 29,
   "id": "565448d8",
   "metadata": {},
   "outputs": [],
   "source": [
    "df=df.drop(columns='Summary')"
   ]
  },
  {
   "cell_type": "code",
   "execution_count": 30,
   "id": "d552d780",
   "metadata": {},
   "outputs": [
    {
     "data": {
      "text/plain": [
       "Rating\n",
       "5    198591\n",
       "4     42514\n",
       "1     29893\n",
       "3     24260\n",
       "2     16235\n",
       "Name: count, dtype: int64"
      ]
     },
     "execution_count": 30,
     "metadata": {},
     "output_type": "execute_result"
    }
   ],
   "source": [
    "df['Rating'].value_counts()"
   ]
  },
  {
   "cell_type": "code",
   "execution_count": 31,
   "id": "d1299eaa",
   "metadata": {},
   "outputs": [
    {
     "name": "stdout",
     "output_type": "stream",
     "text": [
      "Rating\n",
      "5    50000\n",
      "4    42514\n",
      "1    29893\n",
      "3    24260\n",
      "2    16235\n",
      "Name: count, dtype: int64\n"
     ]
    }
   ],
   "source": [
    "import pandas as pd\n",
    "\n",
    "# Example: desired counts for each score\n",
    "desired_counts = {\n",
    "    5: 50000,\n",
    "    4: 42514,\n",
    "    3: 24260,\n",
    "    2: 16235,\n",
    "    1: 29893\n",
    "}\n",
    "\n",
    "df_final = pd.DataFrame()\n",
    "\n",
    "for score, count in desired_counts.items():\n",
    "    df_subset = df[df['Rating'] == score]\n",
    "    \n",
    "    \n",
    "\n",
    "    # If we need more than unique rows available, allow replacement\n",
    "    if count <= len(df_subset):\n",
    "        sampled = df_subset.sample(n=count, random_state=42, replace=False)\n",
    "    \n",
    "    \n",
    "    df_final = pd.concat([df_final, sampled])\n",
    "# Shuffle the final dataset\n",
    "df_final = df_final.sample(frac=1, random_state=42).reset_index(drop=True)\n",
    "\n",
    "\n",
    "print(df_final['Rating'].value_counts())\n",
    "\n"
   ]
  },
  {
   "cell_type": "code",
   "execution_count": 32,
   "id": "ec34d6c3",
   "metadata": {},
   "outputs": [
    {
     "name": "stdout",
     "output_type": "stream",
     "text": [
      "<class 'pandas.core.frame.DataFrame'>\n",
      "RangeIndex: 162902 entries, 0 to 162901\n",
      "Data columns (total 2 columns):\n",
      " #   Column  Non-Null Count   Dtype \n",
      "---  ------  --------------   ----- \n",
      " 0   Rating  162902 non-null  int64 \n",
      " 1   Review  162902 non-null  object\n",
      "dtypes: int64(1), object(1)\n",
      "memory usage: 2.5+ MB\n"
     ]
    }
   ],
   "source": [
    "df_final.info()"
   ]
  },
  {
   "cell_type": "markdown",
   "id": "92adbb79",
   "metadata": {},
   "source": [
    "## Remove non english reviews"
   ]
  },
  {
   "cell_type": "code",
   "execution_count": 33,
   "id": "529b8383",
   "metadata": {},
   "outputs": [],
   "source": [
    "import pandas as pd\n",
    "from langdetect import detect\n",
    "from langdetect.lang_detect_exception import LangDetectException\n",
    "\n",
    "\n",
    "def detect_language(text):\n",
    "    try:\n",
    "        return detect(str(text))\n",
    "    except LangDetectException:\n",
    "        return 'unknown'\n",
    "\n",
    "# Apply language detection\n",
    "df_final['language'] = df_final['Review'].apply(detect_language)"
   ]
  },
  {
   "cell_type": "code",
   "execution_count": 34,
   "id": "d0fa7abd",
   "metadata": {},
   "outputs": [
    {
     "name": "stdout",
     "output_type": "stream",
     "text": [
      "Non-English reviews: 89\n",
      "\n",
      "Language distribution:\n",
      " language\n",
      "en    162813\n",
      "de        31\n",
      "es        30\n",
      "af         9\n",
      "it         5\n",
      "nl         4\n",
      "no         2\n",
      "pt         2\n",
      "fr         2\n",
      "cy         1\n",
      "et         1\n",
      "ca         1\n",
      "sv         1\n",
      "Name: count, dtype: int64\n"
     ]
    }
   ],
   "source": [
    "# Count non-English reviews\n",
    "non_english_count = df_final[df_final['language'] != 'en'].shape[0]\n",
    "\n",
    "\n",
    "language_counts = df_final['language'].value_counts()\n",
    "\n",
    "print(\"Non-English reviews:\", non_english_count)\n",
    "print(\"\\nLanguage distribution:\\n\", language_counts)"
   ]
  },
  {
   "cell_type": "code",
   "execution_count": 35,
   "id": "fc241fcd",
   "metadata": {},
   "outputs": [],
   "source": [
    "df_final = df_final[df_final['language'] == 'en'].drop(columns=['language'])"
   ]
  },
  {
   "cell_type": "code",
   "execution_count": 36,
   "id": "7b07e530",
   "metadata": {},
   "outputs": [
    {
     "name": "stdout",
     "output_type": "stream",
     "text": [
      "<class 'pandas.core.frame.DataFrame'>\n",
      "Index: 162813 entries, 0 to 162901\n",
      "Data columns (total 2 columns):\n",
      " #   Column  Non-Null Count   Dtype \n",
      "---  ------  --------------   ----- \n",
      " 0   Rating  162813 non-null  int64 \n",
      " 1   Review  162813 non-null  object\n",
      "dtypes: int64(1), object(1)\n",
      "memory usage: 3.7+ MB\n"
     ]
    }
   ],
   "source": [
    "df_final.info()"
   ]
  },
  {
   "cell_type": "markdown",
   "id": "3c7c611a",
   "metadata": {},
   "source": [
    "## Viewing dataset review"
   ]
  },
  {
   "cell_type": "code",
   "execution_count": 37,
   "id": "278c5369",
   "metadata": {},
   "outputs": [],
   "source": [
    "df_final['word_count'] = df_final['Review'].astype(str).apply(lambda x: len(x.split()))"
   ]
  },
  {
   "cell_type": "code",
   "execution_count": 38,
   "id": "a7b58435",
   "metadata": {},
   "outputs": [],
   "source": [
    "df_final['Review'] = df_final['Review'].str.lower()\n",
    "df_final['Review'] = df_final['Review'].str.replace(r'\\[.*?\\]', '', regex=True)"
   ]
  },
  {
   "cell_type": "code",
   "execution_count": 39,
   "id": "a734b1f2",
   "metadata": {},
   "outputs": [
    {
     "name": "stdout",
     "output_type": "stream",
     "text": [
      " Minimum word count per Rating:\n",
      "Rating\n",
      "1     9\n",
      "2    13\n",
      "3    12\n",
      "4    11\n",
      "5    11\n",
      "Name: word_count, dtype: int64\n"
     ]
    }
   ],
   "source": [
    "# Group by Rating and find the minimum word count\n",
    "min_word_count_per_rating = df_final.groupby('Rating')['word_count'].min()\n",
    "\n",
    "# Display the result\n",
    "print(\" Minimum word count per Rating:\")\n",
    "print(min_word_count_per_rating)"
   ]
  },
  {
   "cell_type": "code",
   "execution_count": 40,
   "id": "f9fd14a5",
   "metadata": {},
   "outputs": [
    {
     "name": "stdout",
     "output_type": "stream",
     "text": [
      " Minimum word count for Rating 5: 11\n",
      " Reviews with minimum word count:\n",
      "                                                  Review  word_count\n",
      "10567  twinings tea very good tea and fast service. w...          11\n"
     ]
    }
   ],
   "source": [
    "# Specify the rating you're interested in\n",
    "target_rating = 5\n",
    "\n",
    "\n",
    "# Filter for the target rating\n",
    "rating_df = df_final[df_final['Rating'] == target_rating]\n",
    "\n",
    "# Get the minimum word count for that rating\n",
    "min_word_count = rating_df['word_count'].min()\n",
    "\n",
    "# Get the reviews with that minimum word count\n",
    "min_reviews = rating_df[rating_df['word_count'] == min_word_count]\n",
    "\n",
    "# Display\n",
    "print(f\" Minimum word count for Rating {target_rating}: {min_word_count}\")\n",
    "print(\" Reviews with minimum word count:\")\n",
    "print(min_reviews[['Review', 'word_count']])\n"
   ]
  },
  {
   "cell_type": "code",
   "execution_count": 41,
   "id": "6acba3cc",
   "metadata": {},
   "outputs": [
    {
     "name": "stdout",
     "output_type": "stream",
     "text": [
      " Max word count per Rating:\n",
      "Rating\n",
      "1    2157\n",
      "2    1241\n",
      "3    3451\n",
      "4    2070\n",
      "5    2526\n",
      "Name: word_count, dtype: int64\n"
     ]
    }
   ],
   "source": [
    "max_word_count_per_rating = df_final.groupby('Rating')['word_count'].max()\n",
    "\n",
    "# Display the result\n",
    "print(\" Max word count per Rating:\")\n",
    "print(max_word_count_per_rating)"
   ]
  },
  {
   "cell_type": "code",
   "execution_count": 42,
   "id": "aa900369",
   "metadata": {},
   "outputs": [
    {
     "name": "stdout",
     "output_type": "stream",
     "text": [
      "\n",
      " Showing 5 sample reviews for Rating 1:\n",
      "\n",
      "1. other flavors are good, but not barbeque! i bought 3 different flavors as i'm gluten free and they seemed safe. the pb & j was the best although it's kind of expensive when you are getting mostly peanuts but tasted pretty darned good. the almonds w/cranberries is pretty good too! the barbeque i didn't like at all, they taste strictly like chipotle, you cannot taste any ranch, or barbeque taste.\n",
      "\n",
      "2. stinky beans when i opened the bag of beans, couldn't believe the smell!  smells like dirty diapers.  thought the beans must be contaminated, but ground and brewed a cup, taste was good, not the greatest brewed coffee aroma, but not disgusting like the beans and grounds.  too cheap to throw out the bag of beans, so will hold my nose and continue using and hope for no health side effects.\n",
      "\n",
      "3. used as instructed. never came up. used as instructed. never came up. i need to write more words to get the minimum number but i would not buy one again.\n",
      "\n",
      "4. maybe rice bran is not all it's cracked up to be you know how in china and japan they mostly eat white rice but at the same time some really smart integrated health care professionals in america insist that brown rice would be healthier because it has more minerals, b vitamins and a lower glycemic index?<br /><br />well, maybe that's a pile of noise.<br /><br />maybe the people in japan and china actually know what they're doing this time (just like pretty much every other time). maybe the miniscule quantities of vitamins and minerals in brown rice are more than outweighed by allergens and other noxious things (like cyanide) in the bran, which help prevent baby rice grains in the wild from being devoured in the first place.<br /><br />on the other hand, i gotta say, it *does* taste good.\n",
      "\n",
      "5. never worked for me i tried this tea with both my boys. i breastfed both for 10 months.  you are supposed to drink about 3-5 glasses a day, i believe, and this was just not realistic for me. the taste is good i have to say.<br /><br />i used fenugreek from the vitamin shoppe (you have to take 6-9 pills each day to really get results). the fenugreek worked awesome within about 48 hours but you have to take 3 pills 3 times a day.  blessed thistle goes will with fenugreek too but i felt like i smelled like a vegetable.  weird???\n",
      "\n"
     ]
    }
   ],
   "source": [
    "# Choose how many reviews to display\n",
    "n = 5\n",
    "\n",
    "# Choose the rating you want to see (1 to 5)\n",
    "rating = 1\n",
    "\n",
    "# Filter reviews of the selected rating\n",
    "filtered_reviews = df_final[df_final['Rating'] == rating]['Review'].dropna()\n",
    "\n",
    "# Sample 'n' reviews \n",
    "sample_reviews = filtered_reviews.sample(n=min(n, len(filtered_reviews)), random_state=42)\n",
    "\n",
    "# Print the reviews\n",
    "print(f\"\\n Showing {min(n, len(filtered_reviews))} sample reviews for Rating {rating}:\\n\")\n",
    "for i, review in enumerate(sample_reviews, 1):\n",
    "    print(f\"{i}. {review}\\n\")"
   ]
  },
  {
   "cell_type": "code",
   "execution_count": 43,
   "id": "c4eecbf5",
   "metadata": {},
   "outputs": [
    {
     "name": "stdout",
     "output_type": "stream",
     "text": [
      "\n",
      " Showing 5 sample reviews for Rating 2:\n",
      "\n",
      "1. shipping charge let me start by saying that i am a big fan of britt coffees and costa rican coffees.  i don't have an issue with the product or the price for the product.  my beef is with the outrageous shipping charge for a 12 oz. sealed bag of coffee.  that was about $10.  the coffee cost $9.50.  the shipping box was big enough to hold ten bags of coffee.  why not just a sturdy envelope?  i will definitely find costa rican coffee in my local area and buy from a brick & stick store.  usually i try to offset the state sales tax (8.25% in  the dfw area)with the shipping and handling charge.  there seems to be a trend of increasing shipping and handling costs.  local sales tax on this purchase would have been in the range of $0.80.  soon we will all be paying sales tax and shipping charges through on internet sales unless something keeps us from paying another tax which will surely affect the internet market.  anyway, just my 2 cents worth.  no more britt through amazon for me.\n",
      "\n",
      "2. definitely not dilmah's best so far i have bought the ran and meda watte varieties, as well as the supreme ceylon, several other dilmah over the counter teas.<br /><br />this tea is more tannic and of lower quality than the dilmah ceylon i can get at our local indian grocery store. its is finely powdered in a nice tin, but its not in a sealed bag. thats a bummer when you have to  buy three and they sit around for a while\n",
      "\n",
      "3. more like 1 hour energy tasted okay and i didnt have the jittery energy i sometimes get from regular energy drinks but it wore off quickly. it only gave me a little bit of energy for about an hour. i dont know, these energy drinks effect everyone different. dosent justify spending three dollars at the gas station in my opinion.\n",
      "\n",
      "4. tastes great, not raw. these macaroons taste fantastic; but they are not raw. hail merry is advertising this product as raw and it isn't, that is false advertising. out of six ingredients only two are raw. the coconut oil and sea salt are the only raw ingredients in this product. see back of package for\n",
      "\n",
      "5. puppy doesn't like for whatever reason, my puppy is not interested in these treats.  i thought they would be perfect for training based on their size, but my beagle mix wants nothing to do with them.\n",
      "\n"
     ]
    }
   ],
   "source": [
    "# Choose how many reviews to display\n",
    "n = 5\n",
    "\n",
    "# Choose the rating you want to see (1 to 5)\n",
    "rating = 2\n",
    "\n",
    "# Filter reviews of the selected rating\n",
    "filtered_reviews = df_final[df_final['Rating'] == rating]['Review'].dropna()\n",
    "\n",
    "# Sample 'n' reviews \n",
    "sample_reviews = filtered_reviews.sample(n=min(n, len(filtered_reviews)), random_state=42)\n",
    "\n",
    "# Print the reviews\n",
    "print(f\"\\n Showing {min(n, len(filtered_reviews))} sample reviews for Rating {rating}:\\n\")\n",
    "for i, review in enumerate(sample_reviews, 1):\n",
    "    print(f\"{i}. {review}\\n\")"
   ]
  },
  {
   "cell_type": "code",
   "execution_count": 44,
   "id": "2e301779",
   "metadata": {},
   "outputs": [
    {
     "name": "stdout",
     "output_type": "stream",
     "text": [
      "\n",
      " Showing 5 sample reviews for Rating 3:\n",
      "\n",
      "1. love the candy, hate the packaging problem 8 of my 12 packages came with holes in them and candy spilled all over.  i love good & plenty but there must be some type of packaging problems.  hopefully i will receive a refund and the problem will be fixed before my next subscribe and save shipment arrives.  other than that problem, the remaining candy is fresh and tastes great.\n",
      "\n",
      "2. coffee in a can. well, i'm not sure what i can really say about this - it's literally just coffee in a can with a tiny bit of sugar. i do appreciate that there isn't much sugar, i really hate super-sweet canned coffee drinks. but i guess i'm a light-weight when it comes to coffee because i just couldn't drink this from the can, i had to pour it in a glass and add milk to it. the coffee is very strong and very bitter. but i guess if you like drinking cold black coffee with a dash of sugar, then this is the drink for you!\n",
      "\n",
      "3. a fizzy hydrating drink i was only provided with one single-serving (about a teaspoon of the mix) with which to review this product...not an easy task; i stopped by my local health food store to buy some additional product in order to be able to give better feedback. doesn't taste fantastic, but is ok enough to accomplish hydration.<br />my overall impression is that it tastes like a fizzy g*torade...but a healthier version; actually, it is more like alacer's emergen-c products, which are available here on amazon, as well, and can often be purchased at a less-expensive pricepoint.<br />the manufacturer's website states that eboost has:<br /><br />  * no sugar<br />  * no artificial colors<br />  * no artificial flavors<br />  * no high fructose corn syrup<br />  * no crystalline fructose<br />  * no soy<br />  * no gluten<br />  * no lactose<br /><br />the biggest concern is the overall cost...i would say it is worth a try if priced to be competitive with alacer and other similar products.\n",
      "\n",
      "4. repeated flavours instead of variety item desciption states 5 variety with only 1 repeated flavour. i got 2 bananas, 2 strawberries , 1 apple and 1 spinach.<br />shld i had known that its going to be this way, i'd have ordered them seperately.<br />disappointed.\n",
      "\n",
      "5. not overly thrilled with the flavor. i eat a bran muffin for breakfast every day. i normally make a batch from scratch every sunday. i decided to give this mix a try since i use hodgeson mill wheat bran in my recipe. i followed the recipe to the tee, but the taste was a bit off. i tried again a few days later adding a bit of honey and all natural vanilla extract. still, the muffins tasted a bit sour to me. i guess i will just go back to grandmas recipe.\n",
      "\n"
     ]
    }
   ],
   "source": [
    "# Choose how many reviews to display\n",
    "n = 5\n",
    "\n",
    "# Choose the rating you want to see (1 to 5)\n",
    "rating = 3\n",
    "\n",
    "# Filter reviews of the selected rating\n",
    "filtered_reviews = df_final[df_final['Rating'] == rating]['Review'].dropna()\n",
    "\n",
    "# Sample 'n' reviews \n",
    "sample_reviews = filtered_reviews.sample(n=min(n, len(filtered_reviews)), random_state=42)\n",
    "\n",
    "# Print the reviews\n",
    "print(f\"\\n Showing {min(n, len(filtered_reviews))} sample reviews for Rating {rating}:\\n\")\n",
    "for i, review in enumerate(sample_reviews, 1):\n",
    "    print(f\"{i}. {review}\\n\")"
   ]
  },
  {
   "cell_type": "code",
   "execution_count": 45,
   "id": "a13cbeee",
   "metadata": {},
   "outputs": [
    {
     "name": "stdout",
     "output_type": "stream",
     "text": [
      "\n",
      " Showing 5 sample reviews for Rating 4:\n",
      "\n",
      "1. cookies with a kick! once i get past the concept of \"organic cookies\", which sounds like an oxymoron, i have to admit: these ginger snaps are not for wussies.  these little gems are really concentrated with ginger flavor; one might even say they're downright spicy.  the little bits of candied ginger are no small part of this potent taste.  they really impress as an old-fashioned style cookie, and remind me a bit of the british \"ginger nuts\".  as cookies go, they're not bad in the fat department either, with 130 calories per serving, 30 from fat.  if you like your ginger flavor strong, these are the cookies for you.\n",
      "\n",
      "2. it is ok, not as good as fresh milk though for someone who lives alone like me, finishing drinking a half gallon milk before expiration date is far reach of possibility.<br />well, the taste is not as good as fresh milk, but it's ok.\n",
      "\n",
      "3. delicious, creamy, and a good value i enjoy a hot cup of instant flavored coffee in the afternoon. this has an excellent flavor and is a good value compared to the small containers sold in your local grocery stores.\n",
      "\n",
      "4. makes the kids happy. super convenient but not super healthy. these little pouches deliver a lot of sugar but my kids love them and i let them have one each day when they get home from school as a treat. the tropical punch flavor is by far their favorite.\n",
      "\n",
      "5. effective magnet these \"magnets\" are very effective in capturing insects, and i am happy to be using something that is not poisonous or a danger to pets. they don't eliminate insects, however, so really should be used in combination with other products, such as gels (used judiciously so as not to harm animals).\n",
      "\n"
     ]
    }
   ],
   "source": [
    "# Choose how many reviews to display\n",
    "n = 5\n",
    "\n",
    "# Choose the rating you want to see (1 to 5)\n",
    "rating = 4\n",
    "\n",
    "# Filter reviews of the selected rating\n",
    "filtered_reviews = df_final[df_final['Rating'] == rating]['Review'].dropna()\n",
    "\n",
    "# Sample 'n' reviews \n",
    "sample_reviews = filtered_reviews.sample(n=min(n, len(filtered_reviews)), random_state=42)\n",
    "\n",
    "# Print the reviews\n",
    "print(f\"\\n Showing {min(n, len(filtered_reviews))} sample reviews for Rating {rating}:\\n\")\n",
    "for i, review in enumerate(sample_reviews, 1):\n",
    "    print(f\"{i}. {review}\\n\")"
   ]
  },
  {
   "cell_type": "code",
   "execution_count": 46,
   "id": "18ba869e",
   "metadata": {},
   "outputs": [
    {
     "name": "stdout",
     "output_type": "stream",
     "text": [
      "\n",
      " Showing 5 sample reviews for Rating 5:\n",
      "\n",
      "1. munchie heaven they taste sublime without the salt! what else is there to know. it prevents me from eating a fat-filled piece of cake, and the ensuing weight stability is ecstasy!!! also great for the blood pressure. now i'll tell you a little known fact. eat one at a time, slowly, as the repetitive chewing, as in peanuts or gum, actually releases seratonin. look it up!!\n",
      "\n",
      "2. replacement for tones steak dust made by the same company that makes tones steak dust. same ingredients, same smell and taste. slighly different color. a great deal for us folks looking for the tones product.\n",
      "\n",
      "3. lots of vanilla beans these beans arrived quickly and were well-packed in a vacuum sealed pouch.  there were lots and lots of long, supple black vanilla beans.  they smelled great and were very pliable.  i immediatley made some vanilla sugar, which 3 weeks into it, smells wonderful.  i intend to add beans to vodka for extract.  i also added several beans to oil to make a wonderful vanilla oil for salads.  there are so many beans, i will make a few gift budles wrapped in raffia for my family and friends.  the leftovers seem to be keeping quite nicely in my room temp pantry. i just need more ideas for the rest of the beans.\n",
      "\n",
      "4. bacon hot sause this i good stuff not very hot really good on pizza,eggs,hamburger, hot dogs anything really<br />i will buy this again\n",
      "\n",
      "5. for those who like to do their own hair...  :) ok- - so i had to go old school when i ran out of gpb conditioner... i admit i was more than a little skeptical about trying this (everyone else harps on the egg-white condish recipe), but i must say i loved it (a little aloe + egg powder go a long way to conditioning a girl's hair). can't say much foodwise--i'm a vegan.  but, as far as home conditioners go, it's more than alright, it's definitely a keeper for those who have the time to experiment with recipes. sometimes hard to find, but definitely a great product.  a+\n",
      "\n"
     ]
    }
   ],
   "source": [
    "# Choose how many reviews to display\n",
    "n = 5\n",
    "\n",
    "# Choose the rating you want to see (1 to 5)\n",
    "rating = 5\n",
    "\n",
    "# Filter reviews of the selected rating\n",
    "filtered_reviews = df_final[df_final['Rating'] == rating]['Review'].dropna()\n",
    "\n",
    "# Sample 'n' reviews \n",
    "sample_reviews = filtered_reviews.sample(n=min(n, len(filtered_reviews)), random_state=42)\n",
    "\n",
    "# Print the reviews\n",
    "print(f\"\\n Showing {min(n, len(filtered_reviews))} sample reviews for Rating {rating}:\\n\")\n",
    "for i, review in enumerate(sample_reviews, 1):\n",
    "    print(f\"{i}. {review}\\n\")"
   ]
  },
  {
   "cell_type": "markdown",
   "id": "21e2fb43",
   "metadata": {},
   "source": [
    "## Visualization"
   ]
  },
  {
   "cell_type": "code",
   "execution_count": 47,
   "id": "523486ce",
   "metadata": {},
   "outputs": [
    {
     "data": {
      "text/plain": [
       "Rating\n",
       "5    49964\n",
       "4    42494\n",
       "1    29877\n",
       "3    24247\n",
       "2    16231\n",
       "Name: count, dtype: int64"
      ]
     },
     "execution_count": 47,
     "metadata": {},
     "output_type": "execute_result"
    }
   ],
   "source": [
    "df_final['Rating'].value_counts()"
   ]
  },
  {
   "cell_type": "code",
   "execution_count": 48,
   "id": "71638512",
   "metadata": {},
   "outputs": [
    {
     "name": "stderr",
     "output_type": "stream",
     "text": [
      "C:\\Users\\LENOVO\\AppData\\Local\\Temp\\ipykernel_20308\\3539536237.py:2: FutureWarning: \n",
      "\n",
      "Passing `palette` without assigning `hue` is deprecated and will be removed in v0.14.0. Assign the `x` variable to `hue` and set `legend=False` for the same effect.\n",
      "\n",
      "  sns.countplot(x='Rating', data=df_final, palette='viridis')\n"
     ]
    },
    {
     "data": {
      "image/png": "[encoded data removed]",
      "text/plain": [
       "<Figure size 800x500 with 1 Axes>"
      ]
     },
     "metadata": {},
     "output_type": "display_data"
    }
   ],
   "source": [
    "plt.figure(figsize=(8, 5))\n",
    "sns.countplot(x='Rating', data=df_final, palette='viridis')\n",
    "plt.title(\"Number of Reviews per Rating\")\n",
    "plt.xlabel(\"Rating\")\n",
    "plt.ylabel(\"Count\")\n",
    "plt.show()"
   ]
  },
  {
   "cell_type": "code",
   "execution_count": 49,
   "id": "23319a8f",
   "metadata": {},
   "outputs": [
    {
     "data": {
      "image/png": "[encoded data removed]",
      "text/plain": [
       "<Figure size 600x600 with 1 Axes>"
      ]
     },
     "metadata": {},
     "output_type": "display_data"
    }
   ],
   "source": [
    "rating_counts = df_final['Rating'].value_counts().sort_index()\n",
    "plt.figure(figsize=(6, 6))\n",
    "plt.pie(rating_counts, labels=rating_counts.index, autopct='%1.1f%%', startangle=140)\n",
    "plt.title(\"Rating Distribution\")\n",
    "plt.show()"
   ]
  },
  {
   "cell_type": "code",
   "execution_count": 52,
   "id": "f1ebd06c",
   "metadata": {},
   "outputs": [
    {
     "name": "stderr",
     "output_type": "stream",
     "text": [
      "C:\\Users\\LENOVO\\AppData\\Local\\Temp\\ipykernel_20308\\157095490.py:2: FutureWarning: \n",
      "\n",
      "Passing `palette` without assigning `hue` is deprecated and will be removed in v0.14.0. Assign the `x` variable to `hue` and set `legend=False` for the same effect.\n",
      "\n",
      "  sns.boxplot(x='Rating', y='word_count', data=df_final, palette='Set2')\n"
     ]
    },
    {
     "data": {
      "image/png": "[encoded data removed]",
      "text/plain": [
       "<Figure size 1000x600 with 1 Axes>"
      ]
     },
     "metadata": {},
     "output_type": "display_data"
    },
    {
     "name": "stderr",
     "output_type": "stream",
     "text": [
      "C:\\Users\\LENOVO\\AppData\\Local\\Temp\\ipykernel_20308\\157095490.py:14: UserWarning: No artists with labels found to put in legend.  Note that artists whose label start with an underscore are ignored when legend() is called with no argument.\n",
      "  plt.legend(title='Rating')\n"
     ]
    },
    {
     "data": {
      "image/png": "[encoded data removed]",
      "text/plain": [
       "<Figure size 1200x600 with 1 Axes>"
      ]
     },
     "metadata": {},
     "output_type": "display_data"
    }
   ],
   "source": [
    "plt.figure(figsize=(10, 6))\n",
    "sns.boxplot(x='Rating', y='word_count', data=df_final, palette='Set2')\n",
    "plt.title(\" Box Plot: Word Count Distribution by Rating\")\n",
    "plt.xlabel(\"Rating\")\n",
    "plt.ylabel(\"Word Count\")\n",
    "plt.show()\n",
    "\n",
    "# STEP 3: Histogram — Word Count by Rating\n",
    "plt.figure(figsize=(12, 6))\n",
    "sns.histplot(data=df_final, x='word_count', hue='Rating', multiple='stack', palette='Set2', bins=30)\n",
    "plt.title(\" Histogram: Word Count Distribution by Rating\")\n",
    "plt.xlabel(\"Word Count\")\n",
    "plt.ylabel(\"Number of Reviews\")\n",
    "plt.legend(title='Rating')\n",
    "plt.show()"
   ]
  },
  {
   "cell_type": "code",
   "execution_count": 53,
   "id": "6ac93aa5",
   "metadata": {},
   "outputs": [
    {
     "name": "stdout",
     "output_type": "stream",
     "text": [
      " Total Word Count per Rating:\n",
      "\n",
      "Rating\n",
      "1    2734075\n",
      "2    1636363\n",
      "3    2599861\n",
      "4    4484105\n",
      "5    4162059\n",
      "Name: word_count, dtype: int64\n"
     ]
    }
   ],
   "source": [
    "word_count_by_rating = df_final.groupby('Rating')['word_count'].sum()\n",
    "\n",
    "# Step 3: Display the result\n",
    "print(\" Total Word Count per Rating:\\n\")\n",
    "print(word_count_by_rating)"
   ]
  },
  {
   "cell_type": "code",
   "execution_count": 54,
   "id": "0e8d3c29",
   "metadata": {},
   "outputs": [
    {
     "name": "stderr",
     "output_type": "stream",
     "text": [
      "C:\\Users\\LENOVO\\AppData\\Local\\Temp\\ipykernel_20308\\3273365055.py:3: FutureWarning: \n",
      "\n",
      "Passing `palette` without assigning `hue` is deprecated and will be removed in v0.14.0. Assign the `x` variable to `hue` and set `legend=False` for the same effect.\n",
      "\n",
      "  sns.barplot(data=word_count_by_rating, x='Rating', y='word_count', palette='viridis')\n"
     ]
    },
    {
     "data": {
      "image/png": "[encoded data removed]",
      "text/plain": [
       "<Figure size 800x500 with 1 Axes>"
      ]
     },
     "metadata": {},
     "output_type": "display_data"
    }
   ],
   "source": [
    "word_count_by_rating = df_final.groupby('Rating')['word_count'].sum().reset_index()\n",
    "plt.figure(figsize=(8, 5))\n",
    "sns.barplot(data=word_count_by_rating, x='Rating', y='word_count', palette='viridis')\n",
    "plt.title(\" Total Word Count per Rating\")\n",
    "plt.xlabel(\"Rating\")\n",
    "plt.ylabel(\"Total Word Count\")\n",
    "plt.grid(True)\n",
    "plt.show()"
   ]
  },
  {
   "cell_type": "markdown",
   "id": "1bd36d6b",
   "metadata": {},
   "source": [
    "## Removing punctuations, URL,Emojies,special characters"
   ]
  },
  {
   "cell_type": "code",
   "execution_count": 55,
   "id": "af726868",
   "metadata": {},
   "outputs": [],
   "source": [
    "df_final['Review'] = df_final['Review'].str.lower()\n",
    "df_final['Review'] = df_final['Review'].str.replace(r'\\[.*?\\]', '', regex=True)"
   ]
  },
  {
   "cell_type": "code",
   "execution_count": 56,
   "id": "3afac07a",
   "metadata": {},
   "outputs": [],
   "source": [
    "import re\n",
    "\n",
    "def clean_text(text):\n",
    "    text = str(text)\n",
    "    text = re.sub(r\"http\\S+|www\\S+|https\\S+\", '', text, flags=re.MULTILINE)  # remove URLs\n",
    "    text = re.sub(r'<.*?>', '', text)  # remove HTML tags\n",
    "    text = re.sub(r'[\\U00010000-\\U0010ffff]', '', text)  # remove emojis\n",
    "    text = re.sub(r'[^\\w\\s]', '', text)  # remove punctuation\n",
    "    text = re.sub(r'[^a-zA-Z0-9\\s]', '', text)  # remove special characters\n",
    "    text = re.sub(r'\\s+', ' ', text).strip()  # remove extra whitespace\n",
    "    return text\n"
   ]
  },
  {
   "cell_type": "code",
   "execution_count": 57,
   "id": "f083fe3b",
   "metadata": {},
   "outputs": [],
   "source": [
    "df_final['Review']=df_final['Review'].apply(clean_text)"
   ]
  },
  {
   "cell_type": "code",
   "execution_count": 62,
   "id": "b9f2b57e",
   "metadata": {},
   "outputs": [
    {
     "name": "stdout",
     "output_type": "stream",
     "text": [
      " Min word count per Rating:\n",
      "Rating\n",
      "1    5\n",
      "2    9\n",
      "3    9\n",
      "4    3\n",
      "5    2\n",
      "Name: word_count, dtype: int64\n"
     ]
    }
   ],
   "source": [
    "min_word_count_per_rating = df_final.groupby('Rating')['word_count'].min()\n",
    "\n",
    "# Display the result\n",
    "print(\" Min word count per Rating:\")\n",
    "print(min_word_count_per_rating)"
   ]
  },
  {
   "cell_type": "code",
   "execution_count": 63,
   "id": "748924c4",
   "metadata": {},
   "outputs": [
    {
     "name": "stdout",
     "output_type": "stream",
     "text": [
      " Max word count per Rating:\n",
      "Rating\n",
      "1    2045\n",
      "2    1205\n",
      "3    3389\n",
      "4    1994\n",
      "5    2391\n",
      "Name: word_count, dtype: int64\n"
     ]
    }
   ],
   "source": [
    "max_word_count_per_rating = df_final.groupby('Rating')['word_count'].max()\n",
    "\n",
    "# Display the result\n",
    "print(\" Max word count per Rating:\")\n",
    "print(max_word_count_per_rating)"
   ]
  },
  {
   "cell_type": "code",
   "execution_count": 61,
   "id": "b6750114",
   "metadata": {},
   "outputs": [],
   "source": [
    "df_final['word_count'] = df_final['Review'].astype(str).apply(lambda x: len(x.split()))"
   ]
  },
  {
   "cell_type": "code",
   "execution_count": 64,
   "id": "7baf27ad",
   "metadata": {},
   "outputs": [],
   "source": [
    "df_final = df_final[(df_final['word_count'] >= 3) & (df_final['word_count'] <= 200)]"
   ]
  },
  {
   "cell_type": "code",
   "execution_count": 74,
   "id": "a16b5078",
   "metadata": {},
   "outputs": [],
   "source": [
    "df_final=df_final.drop(columns='word_count')"
   ]
  },
  {
   "cell_type": "code",
   "execution_count": 75,
   "id": "9ba345b0",
   "metadata": {},
   "outputs": [
    {
     "name": "stdout",
     "output_type": "stream",
     "text": [
      "<class 'pandas.core.frame.DataFrame'>\n",
      "RangeIndex: 149536 entries, 0 to 149535\n",
      "Data columns (total 2 columns):\n",
      " #   Column  Non-Null Count   Dtype \n",
      "---  ------  --------------   ----- \n",
      " 0   Rating  149536 non-null  int64 \n",
      " 1   Review  149536 non-null  object\n",
      "dtypes: int64(1), object(1)\n",
      "memory usage: 2.3+ MB\n"
     ]
    }
   ],
   "source": [
    "df_final.info()"
   ]
  },
  {
   "cell_type": "code",
   "execution_count": 76,
   "id": "b1fc0bcf",
   "metadata": {},
   "outputs": [],
   "source": [
    "df_final.to_csv(\"dataset_without.csv\", encoding=\"utf-8-sig\")"
   ]
  },
  {
   "cell_type": "markdown",
   "id": "2094784c",
   "metadata": {},
   "source": [
    "## Stop word removal and lemmatization"
   ]
  },
  {
   "cell_type": "code",
   "execution_count": 69,
   "id": "a26f15b1",
   "metadata": {},
   "outputs": [],
   "source": [
    "import spacy\n",
    "nlp = spacy.load(\"en_core_web_sm\")"
   ]
  },
  {
   "cell_type": "code",
   "execution_count": 70,
   "id": "b746b3e0",
   "metadata": {},
   "outputs": [
    {
     "name": "stdout",
     "output_type": "stream",
     "text": [
      " Total stop words: 326\n",
      " Stop words list:\n",
      "[\"'d\", \"'ll\", \"'m\", \"'re\", \"'s\", \"'ve\", 'a', 'about', 'above', 'across', 'after', 'afterwards', 'again', 'against', 'all', 'almost', 'alone', 'along', 'already', 'also', 'although', 'always', 'am', 'among', 'amongst', 'amount', 'an', 'and', 'another', 'any', 'anyhow', 'anyone', 'anything', 'anyway', 'anywhere', 'are', 'around', 'as', 'at', 'back', 'be', 'became', 'because', 'become', 'becomes', 'becoming', 'been', 'before', 'beforehand', 'behind', 'being', 'below', 'beside', 'besides', 'between', 'beyond', 'both', 'bottom', 'but', 'by', 'ca', 'call', 'can', 'cannot', 'could', 'did', 'do', 'does', 'doing', 'done', 'down', 'due', 'during', 'each', 'eight', 'either', 'eleven', 'else', 'elsewhere', 'empty', 'enough', 'even', 'ever', 'every', 'everyone', 'everything', 'everywhere', 'except', 'few', 'fifteen', 'fifty', 'first', 'five', 'for', 'former', 'formerly', 'forty', 'four', 'from', 'front', 'full', 'further', 'get', 'give', 'go', 'had', 'has', 'have', 'he', 'hence', 'her', 'here', 'hereafter', 'hereby', 'herein', 'hereupon', 'hers', 'herself', 'him', 'himself', 'his', 'how', 'however', 'hundred', 'i', 'if', 'in', 'indeed', 'into', 'is', 'it', 'its', 'itself', 'just', 'keep', 'last', 'latter', 'latterly', 'least', 'less', 'made', 'make', 'many', 'may', 'me', 'meanwhile', 'might', 'mine', 'more', 'moreover', 'most', 'mostly', 'move', 'much', 'must', 'my', 'myself', \"n't\", 'name', 'namely', 'neither', 'never', 'nevertheless', 'next', 'nine', 'no', 'nobody', 'none', 'noone', 'nor', 'not', 'nothing', 'now', 'nowhere', 'n‘t', 'n’t', 'of', 'off', 'often', 'on', 'once', 'one', 'only', 'onto', 'or', 'other', 'others', 'otherwise', 'our', 'ours', 'ourselves', 'out', 'over', 'own', 'part', 'per', 'perhaps', 'please', 'put', 'quite', 'rather', 're', 'really', 'regarding', 'same', 'say', 'see', 'seem', 'seemed', 'seeming', 'seems', 'serious', 'several', 'she', 'should', 'show', 'side', 'since', 'six', 'sixty', 'so', 'some', 'somehow', 'someone', 'something', 'sometime', 'sometimes', 'somewhere', 'still', 'such', 'take', 'ten', 'than', 'that', 'the', 'their', 'them', 'themselves', 'then', 'thence', 'there', 'thereafter', 'thereby', 'therefore', 'therein', 'thereupon', 'these', 'they', 'third', 'this', 'those', 'though', 'three', 'through', 'throughout', 'thru', 'thus', 'to', 'together', 'too', 'top', 'toward', 'towards', 'twelve', 'twenty', 'two', 'under', 'unless', 'until', 'up', 'upon', 'us', 'used', 'using', 'various', 'very', 'via', 'was', 'we', 'well', 'were', 'what', 'whatever', 'when', 'whence', 'whenever', 'where', 'whereafter', 'whereas', 'whereby', 'wherein', 'whereupon', 'wherever', 'whether', 'which', 'while', 'whither', 'who', 'whoever', 'whole', 'whom', 'whose', 'why', 'will', 'with', 'within', 'without', 'would', 'yet', 'you', 'your', 'yours', 'yourself', 'yourselves', '‘d', '‘ll', '‘m', '‘re', '‘s', '‘ve', '’d', '’ll', '’m', '’re', '’s', '’ve']\n"
     ]
    }
   ],
   "source": [
    "# Print all stop words\n",
    "print(\" Total stop words:\", len(nlp.Defaults.stop_words))\n",
    "print(\" Stop words list:\")\n",
    "print(sorted(nlp.Defaults.stop_words))"
   ]
  },
  {
   "cell_type": "code",
   "execution_count": 71,
   "id": "5a27d7fa",
   "metadata": {},
   "outputs": [],
   "source": [
    "#lemmatization and stop word removal\n",
    "def cleaning(text):\n",
    "    doc = nlp(text)\n",
    "    return ' '.join([token.lemma_ for token in doc if not token.is_stop])"
   ]
  },
  {
   "cell_type": "code",
   "execution_count": 77,
   "id": "b17d24c9",
   "metadata": {},
   "outputs": [],
   "source": [
    "df_final['Review']=df_final['Review'].apply(cleaning)"
   ]
  },
  {
   "cell_type": "code",
   "execution_count": 78,
   "id": "b023ccc3",
   "metadata": {},
   "outputs": [],
   "source": [
    "df_final['word_count'] = df_final['Review'].astype(str).apply(lambda x: len(x.split()))"
   ]
  },
  {
   "cell_type": "code",
   "execution_count": 79,
   "id": "a185a71a",
   "metadata": {},
   "outputs": [
    {
     "name": "stdout",
     "output_type": "stream",
     "text": [
      " Min word count per Rating:\n",
      "Rating\n",
      "1    4\n",
      "2    5\n",
      "3    4\n",
      "4    2\n",
      "5    4\n",
      "Name: word_count, dtype: int64\n"
     ]
    }
   ],
   "source": [
    "min_word_count_per_rating = df_final.groupby('Rating')['word_count'].min()\n",
    "\n",
    "# Display the result\n",
    "print(\" Min word count per Rating:\")\n",
    "print(min_word_count_per_rating)"
   ]
  },
  {
   "cell_type": "code",
   "execution_count": 80,
   "id": "ea140981",
   "metadata": {},
   "outputs": [
    {
     "name": "stdout",
     "output_type": "stream",
     "text": [
      " Max word count per Rating:\n",
      "Rating\n",
      "1    142\n",
      "2    130\n",
      "3    142\n",
      "4    164\n",
      "5    131\n",
      "Name: word_count, dtype: int64\n"
     ]
    }
   ],
   "source": [
    "max_word_count_per_rating = df_final.groupby('Rating')['word_count'].max()\n",
    "\n",
    "# Display the result\n",
    "print(\" Max word count per Rating:\")\n",
    "print(max_word_count_per_rating)"
   ]
  },
  {
   "cell_type": "code",
   "execution_count": 82,
   "id": "b40ab174",
   "metadata": {},
   "outputs": [],
   "source": [
    "df_final = df_final[(df_final['word_count'] >= 3)]"
   ]
  },
  {
   "cell_type": "code",
   "execution_count": 84,
   "id": "ad61a3ad",
   "metadata": {},
   "outputs": [],
   "source": [
    "df_final=df_final.drop(columns='word_count')"
   ]
  },
  {
   "cell_type": "code",
   "execution_count": 85,
   "id": "c1f6e667",
   "metadata": {},
   "outputs": [
    {
     "name": "stdout",
     "output_type": "stream",
     "text": [
      "<class 'pandas.core.frame.DataFrame'>\n",
      "Index: 149535 entries, 0 to 149535\n",
      "Data columns (total 2 columns):\n",
      " #   Column  Non-Null Count   Dtype \n",
      "---  ------  --------------   ----- \n",
      " 0   Rating  149535 non-null  int64 \n",
      " 1   Review  149535 non-null  object\n",
      "dtypes: int64(1), object(1)\n",
      "memory usage: 3.4+ MB\n"
     ]
    }
   ],
   "source": [
    "df_final.info()"
   ]
  },
  {
   "cell_type": "code",
   "execution_count": 86,
   "id": "630c633a",
   "metadata": {},
   "outputs": [],
   "source": [
    "df_final.to_csv(\"final_dataset.csv\", encoding=\"utf-8-sig\")"
   ]
  },
  {
   "cell_type": "markdown",
   "id": "76810872",
   "metadata": {},
   "source": [
    "## Viewing dataset after cleaning"
   ]
  },
  {
   "cell_type": "code",
   "execution_count": 87,
   "id": "e773be6a",
   "metadata": {},
   "outputs": [],
   "source": [
    "df_final['word_count'] = df_final['Review'].astype(str).apply(lambda x: len(x.split()))"
   ]
  },
  {
   "cell_type": "code",
   "execution_count": 88,
   "id": "532fc8de",
   "metadata": {},
   "outputs": [
    {
     "name": "stdout",
     "output_type": "stream",
     "text": [
      " Minimum word count per Rating:\n",
      "Rating\n",
      "1    4\n",
      "2    5\n",
      "3    4\n",
      "4    4\n",
      "5    4\n",
      "Name: word_count, dtype: int64\n"
     ]
    }
   ],
   "source": [
    "# Group by Rating and find the minimum word count\n",
    "min_word_count_per_rating = df_final.groupby('Rating')['word_count'].min()\n",
    "\n",
    "# Display the result\n",
    "print(\" Minimum word count per Rating:\")\n",
    "print(min_word_count_per_rating)"
   ]
  },
  {
   "cell_type": "code",
   "execution_count": 89,
   "id": "66b7b037",
   "metadata": {},
   "outputs": [
    {
     "name": "stdout",
     "output_type": "stream",
     "text": [
      " Minimum word count for Rating 5: 4\n",
      " Reviews with minimum word count:\n",
      "                               Review  word_count\n",
      "98281   title product advertise seven           4\n",
      "113502           good movie good copy           4\n"
     ]
    }
   ],
   "source": [
    "# Specify the rating you're interested in\n",
    "target_rating = 5\n",
    "\n",
    "\n",
    "# Filter for the target rating\n",
    "rating_df = df_final[df_final['Rating'] == target_rating]\n",
    "\n",
    "# Get the minimum word count for that rating\n",
    "min_word_count = rating_df['word_count'].min()\n",
    "\n",
    "# Get the reviews with that minimum word count\n",
    "min_reviews = rating_df[rating_df['word_count'] == min_word_count]\n",
    "\n",
    "# Display\n",
    "print(f\" Minimum word count for Rating {target_rating}: {min_word_count}\")\n",
    "print(\" Reviews with minimum word count:\")\n",
    "print(min_reviews[['Review', 'word_count']])\n"
   ]
  },
  {
   "cell_type": "code",
   "execution_count": 90,
   "id": "b62578c3",
   "metadata": {},
   "outputs": [
    {
     "name": "stdout",
     "output_type": "stream",
     "text": [
      " Max word count per Rating:\n",
      "Rating\n",
      "1    142\n",
      "2    130\n",
      "3    142\n",
      "4    164\n",
      "5    131\n",
      "Name: word_count, dtype: int64\n"
     ]
    }
   ],
   "source": [
    "max_word_count_per_rating = df_final.groupby('Rating')['word_count'].max()\n",
    "\n",
    "# Display the result\n",
    "print(\" Max word count per Rating:\")\n",
    "print(max_word_count_per_rating)"
   ]
  },
  {
   "cell_type": "code",
   "execution_count": 375,
   "id": "965d5492",
   "metadata": {},
   "outputs": [
    {
     "name": "stdout",
     "output_type": "stream",
     "text": [
      "\n",
      " Showing 5 sample reviews for Rating 1:\n",
      "\n",
      "1. 15 year later mislead review write april 2010 person mention follow title mislead understand 9 pound coffee sampler case think 15 year multiple bad review amazon clarify issue purchase expensive expect not care couple silly mug box opinion know trick people not want change disappointed\n",
      "\n",
      "2. yuck contain aspartame alternative list shame want like fiber texture great nice crunchythough make think little pet food xd fiber content super aspartame dealbreaker consume aspartame chew gum 14 can diet coke day discover actually give migraine hike anxiety level not migraine panic attack 4 year quit accidentally headache start feel nervous right away study brain tumor controversial avoid like plaguebut find today wonderful alternative fiber smart bran whopping 13 gram fiber taste pretty good nasty artificial sweetener not contain high fructose corn syrup lovely general mill change fiber healthy 1020 calorie cereal not worth headache health impact aspartameplus nice cereal decent aftertaste\n",
      "\n",
      "3. inedible sorry true read review product vow buy pick trip market remember nasty one think chewy chocolate gfcf great give year old excite look like get hunk chocolate sniff refuse eat try little flavor texture unpleasant hard bite not imagine company thinkingit shame hard find delicious allergyfriendly snack product offensive booooo\n",
      "\n",
      "4. wow amazon 2200 vs 985 wallmart joke 1300 difference price amazon rip offlol mean formula online time take amazon corp office research think people not care\n",
      "\n",
      "5. dill big fan simply organic purchase product regularlyhowever particular dill weed fall short expectationsthe flavor lackluster unimpressive order different company find flavorwhat huge disappointment\n",
      "\n"
     ]
    }
   ],
   "source": [
    "# Choose how many reviews to display\n",
    "n = 5\n",
    "\n",
    "# Choose the rating you want to see (1 to 5)\n",
    "rating = 1\n",
    "\n",
    "# Filter reviews of the selected rating\n",
    "filtered_reviews = df_final[df_final['Rating'] == rating]['Review'].dropna()\n",
    "\n",
    "# Sample 'n' reviews \n",
    "sample_reviews = filtered_reviews.sample(n=min(n, len(filtered_reviews)), random_state=42)\n",
    "\n",
    "# Print the reviews\n",
    "print(f\"\\n Showing {min(n, len(filtered_reviews))} sample reviews for Rating {rating}:\\n\")\n",
    "for i, review in enumerate(sample_reviews, 1):\n",
    "    print(f\"{i}. {review}\\n\")"
   ]
  },
  {
   "cell_type": "code",
   "execution_count": 376,
   "id": "faaa14ab",
   "metadata": {},
   "outputs": [
    {
     "name": "stdout",
     "output_type": "stream",
     "text": [
      "\n",
      " Showing 5 sample reviews for Rating 2:\n",
      "\n",
      "1. extremely spicy know indian food spicy not list ingredient think d shot big piece green not think human eat dig big green thing dilute lot dairy tone rice potato eat night indigestionit probably ok like spicy food\n",
      "\n",
      "2. old tough likely order product old past pull date 2 month\n",
      "\n",
      "3. funky taste disappointed product horrible definitely overpriced well get 12 cent packet sugar free drink mix target add tequila\n",
      "\n",
      "4. not beat price gloria jean cheapo brand keurig machine show ve get honesty regular 24pod box subtle taste hazelnut boy subtle flavor weak coffee not strong low 6 oz set forget 8 oz level reuse podswhen get keurig get selection green mountain coffee think firstclass kind pricey gloria jean 36 pod save fair 68 pod day difference quality not think worth worry coffee fix door couple box gloria jean case run good stuff not use regularly ll find give keurig machine\n",
      "\n",
      "5. not smell like coffee coffee not taste bad not smell like coffee non dairy creamer bad smell stop drink look good strong coffee enjoy\n",
      "\n"
     ]
    }
   ],
   "source": [
    "# Choose how many reviews to display\n",
    "n = 5\n",
    "\n",
    "# Choose the rating you want to see (1 to 5)\n",
    "rating = 2\n",
    "\n",
    "# Filter reviews of the selected rating\n",
    "filtered_reviews = df_final[df_final['Rating'] == rating]['Review'].dropna()\n",
    "\n",
    "# Sample 'n' reviews \n",
    "sample_reviews = filtered_reviews.sample(n=min(n, len(filtered_reviews)), random_state=42)\n",
    "\n",
    "# Print the reviews\n",
    "print(f\"\\n Showing {min(n, len(filtered_reviews))} sample reviews for Rating {rating}:\\n\")\n",
    "for i, review in enumerate(sample_reviews, 1):\n",
    "    print(f\"{i}. {review}\\n\")"
   ]
  },
  {
   "cell_type": "code",
   "execution_count": 377,
   "id": "2432ec57",
   "metadata": {},
   "outputs": [
    {
     "name": "stdout",
     "output_type": "stream",
     "text": [
      "\n",
      " Showing 5 sample reviews for Rating 3:\n",
      "\n",
      "1. s use xylosweet xylitol talk xylosweet diarhhea mean 2 teaspoon vs 1 corn product sooxylosweet sweet sugar need little bit guess happen not actually bake like cup cause ve scared maybe bake elimate effect ill let try firstnow food make xylitol mix stevia packet carry purse little bit xylitol add stevia take away bit stevia yucky bitter taste bit s use sothat\n",
      "\n",
      "2. great product bad packaging iwould like share experience couscous packaging osem come couscous great cook fast make delicious north african dishesthe packaging come tear tape couscous place amazon box not damage way blame osem amazon send open tape product\n",
      "\n",
      "3. tough miniature schnauzer love toy inroad bone end hope long\n",
      "\n",
      "4. like flavor coffee enjoyable fall season know open special occasion opinion pleasantly surprised delightful ask refill tell amazon quizical\n",
      "\n",
      "5. pretty good instant good misocup pretty alright honestly ve brand freezedrie instant miso soup well defense ve lot misocup brand buy case product benefit expensive despite fact organicthe basic flavor expect red miso hint dryish papery taste mouth feel go away let hydrate long time suspect come packaging especially prevalent piece tofu come despite high sodium content need salt thing body wakame plentiful eat come small piece soup come small sliver green onion imagine facilitate consume cup mechanical juxtapose fact certify organic onion contribute lot wakame particular formulation appreciate organic usually expect organic stuff good nonorganic stuff betterthat say not taste bad will not regret decision buy good expensive brand d recommend like miso frequently not not stomach shell dollar 8 ounce serve\n",
      "\n"
     ]
    }
   ],
   "source": [
    "# Choose how many reviews to display\n",
    "n = 5\n",
    "\n",
    "# Choose the rating you want to see (1 to 5)\n",
    "rating = 3\n",
    "\n",
    "# Filter reviews of the selected rating\n",
    "filtered_reviews = df_final[df_final['Rating'] == rating]['Review'].dropna()\n",
    "\n",
    "# Sample 'n' reviews \n",
    "sample_reviews = filtered_reviews.sample(n=min(n, len(filtered_reviews)), random_state=42)\n",
    "\n",
    "# Print the reviews\n",
    "print(f\"\\n Showing {min(n, len(filtered_reviews))} sample reviews for Rating {rating}:\\n\")\n",
    "for i, review in enumerate(sample_reviews, 1):\n",
    "    print(f\"{i}. {review}\\n\")"
   ]
  },
  {
   "cell_type": "code",
   "execution_count": 378,
   "id": "f786eae7",
   "metadata": {},
   "outputs": [
    {
     "name": "stdout",
     "output_type": "stream",
     "text": [
      "\n",
      " Showing 5 sample reviews for Rating 4:\n",
      "\n",
      "1. apple cystaltini big fan crystal lite new appletini flavor bit sweet tart fond turn recognizable appletini green water add find add splash ginger ale give zing crave bit effervescencein case like crystal lite add dash traditional vodka quick easy drink dropin guest like zero bartende skillsi like fact come individual tube use entire packet quart pitcher opinion weak use small glass refreshing sour apple kind way buy\n",
      "\n",
      "2. sure work delicious not test output increase eat cookie delicious stay moist ingredient brewer yeast suppose aid milk production base internet research doctor believe ingredient lead modest gain\n",
      "\n",
      "3. richtasting fullbodie preferred method presspot aka french press taste nuance coffee bigbodied brew disappoint recommend consume asap camano island coffee roaster correct previous packaging problem\n",
      "\n",
      "4. john lightne fast delivery nice coffee reasonably price thank order suppose\n",
      "\n",
      "5. say dressing thick hot spicy promise find dilute little taste make calorie few like flavor turn vegetableinto party eat tomato green bean vegetable cook raw m definitely go buy\n",
      "\n"
     ]
    }
   ],
   "source": [
    "# Choose how many reviews to display\n",
    "n = 5\n",
    "\n",
    "# Choose the rating you want to see (1 to 5)\n",
    "rating = 4\n",
    "\n",
    "# Filter reviews of the selected rating\n",
    "filtered_reviews = df_final[df_final['Rating'] == rating]['Review'].dropna()\n",
    "\n",
    "# Sample 'n' reviews \n",
    "sample_reviews = filtered_reviews.sample(n=min(n, len(filtered_reviews)), random_state=42)\n",
    "\n",
    "# Print the reviews\n",
    "print(f\"\\n Showing {min(n, len(filtered_reviews))} sample reviews for Rating {rating}:\\n\")\n",
    "for i, review in enumerate(sample_reviews, 1):\n",
    "    print(f\"{i}. {review}\\n\")"
   ]
  },
  {
   "cell_type": "code",
   "execution_count": 379,
   "id": "9d0d8d23",
   "metadata": {},
   "outputs": [
    {
     "name": "stdout",
     "output_type": "stream",
     "text": [
      "\n",
      " Showing 5 sample reviews for Rating 5:\n",
      "\n",
      "1. great hair buy product help condition hair work great cook try smell awesome\n",
      "\n",
      "2. good butter ve taste amish roll butter good ve great toast bagel roll well baked potatofortunately buy grocery store county market punxsutawney pa s large amish community\n",
      "\n",
      "3. caribou win hand sample kcup caribou blend good daily regular coffee drinker m huge fan flavor coffee love dark bitter bold type simply want smooth cup joe drink daily feel comfort consistently tasting awesome caribous perfect fit far brewing caribou kcup home keep go starbucks monthit taste well\n",
      "\n",
      "4. good syrup good prize torani syrup latte home long spend 4 latte drink torani vanilla syrup good market\n",
      "\n",
      "5. love cereal sure cereal time amazon sale house love little one eat right box healthy\n",
      "\n"
     ]
    }
   ],
   "source": [
    "# Choose how many reviews to display\n",
    "n = 5\n",
    "\n",
    "# Choose the rating you want to see (1 to 5)\n",
    "rating = 5\n",
    "\n",
    "# Filter reviews of the selected rating\n",
    "filtered_reviews = df_final[df_final['Rating'] == rating]['Review'].dropna()\n",
    "\n",
    "# Sample 'n' reviews \n",
    "sample_reviews = filtered_reviews.sample(n=min(n, len(filtered_reviews)), random_state=42)\n",
    "\n",
    "# Print the reviews\n",
    "print(f\"\\n Showing {min(n, len(filtered_reviews))} sample reviews for Rating {rating}:\\n\")\n",
    "for i, review in enumerate(sample_reviews, 1):\n",
    "    print(f\"{i}. {review}\\n\")"
   ]
  }
 ],
 "metadata": {
  "kernelspec": {
   "display_name": "Python 3",
   "language": "python",
   "name": "python3"
  },
  "language_info": {
   "codemirror_mode": {
    "name": "ipython",
    "version": 3
   },
   "file_extension": ".py",
   "mimetype": "text/x-python",
   "name": "python",
   "nbconvert_exporter": "python",
   "pygments_lexer": "ipython3",
   "version": "3.13.5"
  }
 },
 "nbformat": 4,
 "nbformat_minor": 5
}
